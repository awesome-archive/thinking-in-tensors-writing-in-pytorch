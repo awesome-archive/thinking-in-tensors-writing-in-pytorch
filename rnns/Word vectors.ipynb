{
 "cells": [
  {
   "cell_type": "markdown",
   "metadata": {},
   "source": [
    "# Thinking in tensors, writing in PyTorch\n",
    "\n",
    "A hands-on course by [Piotr Migdał](https://p.migdal.pl) (2019). Version 0.2.\n",
    "\n",
    "[![Open In Colab](https://colab.research.google.com/assets/colab-badge.svg)]( https://colab.research.google.com/github/stared/thinking-in-tensors-writing-in-pytorch/blob/master/extra/Word%20vectors.ipynb)\n",
    "\n",
    "\n",
    "## Word vectors\n",
    "\n",
    "### Reading\n",
    "\n",
    "For a general reading, see:\n",
    "\n",
    "* [king - man + woman is queen; but why?](https://p.migdal.pl/2017/01/06/king-man-woman-queen-why.html)\n",
    "* [Word2vec in PyTorch](https://adoni.github.io/2017/11/08/word2vec-pytorch/)\n",
    "\n",
    "### Notes\n",
    "\n",
    "We use the smallest, 50-dimensional, uncased GloVe word embedding:\n",
    "\n",
    "* [GloVe: Global Vectors for Word Representation by Stanford](https://nlp.stanford.edu/projects/glove/)\n",
    "\n",
    "Other popular pre-trained word embeddings:\n",
    "\n",
    "* [word2vec by Google](https://code.google.com/archive/p/word2vec/)\n",
    "* [fastText by Facebook](https://github.com/facebookresearch/fastText/blob/master/pretrained-vectors.md) (multilingual)\n",
    "\n",
    "See also:\n",
    "\n",
    "* [Aligning the fastText vectors of 78 languages](https://github.com/Babylonpartners/fastText_multilingual)\n",
    "* [gensim-data](https://github.com/RaRe-Technologies/gensim-data) - data repository for pretrained NLP models and NLP corpora."
   ]
  },
  {
   "cell_type": "code",
   "execution_count": null,
   "metadata": {},
   "outputs": [],
   "source": [
    "%matplotlib inline\n",
    "import pandas as pd\n",
    "import numpy as np\n",
    "import seaborn as sns\n",
    "\n",
    "from matplotlib import pyplot as plt\n",
    "\n",
    "from sklearn.decomposition import PCA\n",
    "from sklearn.manifold import TSNE"
   ]
  },
  {
   "cell_type": "markdown",
   "metadata": {},
   "source": [
    "## Loading data"
   ]
  },
  {
   "cell_type": "code",
   "execution_count": null,
   "metadata": {},
   "outputs": [],
   "source": [
    "wv = pd.read_csv(\"./data/glove.6B.50d.txt\",\n",
    "                      delimiter=\" \", header=None, index_col=0, quoting=3)"
   ]
  },
  {
   "cell_type": "code",
   "execution_count": null,
   "metadata": {},
   "outputs": [],
   "source": [
    "wv.head()"
   ]
  },
  {
   "cell_type": "code",
   "execution_count": null,
   "metadata": {},
   "outputs": [],
   "source": [
    "wv.loc[\"julia\"].values"
   ]
  },
  {
   "cell_type": "code",
   "execution_count": null,
   "metadata": {},
   "outputs": [],
   "source": [
    "# let's make it nicer!\n",
    "def latex_vector(series, first=3, last=1):\n",
    "    from IPython.display import Math\n",
    "    \n",
    "    if len(series) < first + last:\n",
    "        raise Exception(\"len(series) < first + last\")\n",
    "    \n",
    "    s = r\"\\vec{v}_{\\text{\" +  series.name + r\"}} = [\"\n",
    "    \n",
    "    vs_fmtd = [\"{:.2f}\".format(v) for v in series.values[:first]]\n",
    "    if len(series) > first + last:\n",
    "        vs_fmtd.append(r\"\\ldots\")\n",
    "    vs_fmtd += [\"{:.2f}\".format(v) for v in series.values[-last:]]\n",
    "            \n",
    "    s += \", \".join(vs_fmtd)\n",
    "    s += \"]\"\n",
    "\n",
    "    return Math(s) "
   ]
  },
  {
   "cell_type": "code",
   "execution_count": null,
   "metadata": {},
   "outputs": [],
   "source": [
    "latex_vector(wv.loc[\"julia\"])"
   ]
  },
  {
   "cell_type": "markdown",
   "metadata": {},
   "source": [
    "## Words close to each other"
   ]
  },
  {
   "cell_type": "code",
   "execution_count": null,
   "metadata": {},
   "outputs": [],
   "source": [
    "words = set(wv.index)"
   ]
  },
  {
   "cell_type": "code",
   "execution_count": null,
   "metadata": {},
   "outputs": [],
   "source": [
    "\"daniel\" in words"
   ]
  },
  {
   "cell_type": "code",
   "execution_count": null,
   "metadata": {},
   "outputs": [],
   "source": [
    "correlations = wv.loc[[\"cat\", \"dog\", \"bar\", \"pub\", \"beer\", \"tea\", \"coffee\", \"talked\", \"nicely\"]].transpose().corr()\n",
    "sns.clustermap(correlations, vmin=-1., vmax=1., cmap=\"coolwarm\")"
   ]
  },
  {
   "cell_type": "code",
   "execution_count": null,
   "metadata": {},
   "outputs": [],
   "source": [
    "correlations = wv.loc[[\"hotel\", \"motel\", \"guesthouse\", \"bar\", \"pub\", \"party\"]].transpose().corr()\n",
    "sns.clustermap(correlations, vmin=-1., vmax=1., cmap=\"coolwarm\")"
   ]
  },
  {
   "cell_type": "markdown",
   "metadata": {},
   "source": [
    "## Projections on word differences"
   ]
  },
  {
   "cell_type": "code",
   "execution_count": null,
   "metadata": {},
   "outputs": [],
   "source": [
    "np.dot(wv.loc[\"kate\"],  wv.loc[\"he\"] - wv.loc[\"she\"])"
   ]
  },
  {
   "cell_type": "code",
   "execution_count": null,
   "metadata": {},
   "outputs": [],
   "source": [
    "np.dot(wv.loc[\"john\"],  wv.loc[\"he\"] - wv.loc[\"she\"])"
   ]
  },
  {
   "cell_type": "code",
   "execution_count": null,
   "metadata": {},
   "outputs": [],
   "source": [
    "names = [\"kate\", \"catherine\", \"john\", \"mark\", \"peter\", \"anna\", \"julia\", \"jacob\", \"jake\",\n",
    "         \"richard\", \"ted\", \"theodore\", \"sue\", \"susanne\", \"suzanne\", \"susan\", \"mary\",\n",
    "         \"leo\", \"leonard\", \"alexander\", \"alexandra\", \"alex\", \"sasha\"]\n",
    "all([name in words for name in names])"
   ]
  },
  {
   "cell_type": "code",
   "execution_count": null,
   "metadata": {},
   "outputs": [],
   "source": [
    "gender = wv.loc[\"he\"] - wv.loc[\"she\"]"
   ]
  },
  {
   "cell_type": "code",
   "execution_count": null,
   "metadata": {},
   "outputs": [],
   "source": [
    "wv.loc[names].dot(gender).sort_values()"
   ]
  },
  {
   "cell_type": "code",
   "execution_count": null,
   "metadata": {},
   "outputs": [],
   "source": [
    "wv.loc[names].dot(gender).sort_values().plot.barh()"
   ]
  },
  {
   "cell_type": "code",
   "execution_count": null,
   "metadata": {},
   "outputs": [],
   "source": [
    "diminutive = wv.loc[\"kate\"] - wv.loc[\"catherine\"]"
   ]
  },
  {
   "cell_type": "code",
   "execution_count": null,
   "metadata": {},
   "outputs": [],
   "source": [
    "proj = pd.DataFrame([gender, diminutive], index=[\"gender\", \"diminutive\"]).transpose()"
   ]
  },
  {
   "cell_type": "code",
   "execution_count": null,
   "metadata": {},
   "outputs": [],
   "source": [
    "df_plot = wv.loc[names].dot(proj).sort_values(by=\"diminutive\")\n",
    "df_plot"
   ]
  },
  {
   "cell_type": "code",
   "execution_count": null,
   "metadata": {},
   "outputs": [],
   "source": [
    "# let's normalize data\n",
    "lens = (wv**2).sum(axis=1)\n",
    "wvn = wv.div(np.sqrt(lens), axis='index')"
   ]
  },
  {
   "cell_type": "code",
   "execution_count": null,
   "metadata": {},
   "outputs": [],
   "source": [
    "some_words = [\"good\", \"bad\", \"ok\", \"not\", \"ugly\", \"beautiful\", \"awesome\", \"!\", \"?\"]\n",
    "assert(all([word in words for word in some_words]))\n",
    "\n",
    "awesomeness = wvn.loc[\"awesome\"] - wvn.loc[\"awful\"]\n",
    "wvn.loc[some_words].dot(awesomeness).sort_values()"
   ]
  },
  {
   "cell_type": "markdown",
   "metadata": {},
   "source": [
    "## Plots\n",
    "\n",
    "To reduce dimensions, we use:\n",
    "\n",
    "* [PCA](http://setosa.io/ev/principal-component-analysis/) - Principal Component Analysis\n",
    "* [t-SNE](https://lvdmaaten.github.io/tsne/) - t-Distributed Stochastic Neighbor Embedding\n",
    "\n",
    "See also [How to Use t-SNE Effectively](https://distill.pub/2016/misread-tsne/) at Distill."
   ]
  },
  {
   "cell_type": "code",
   "execution_count": null,
   "metadata": {},
   "outputs": [],
   "source": [
    "pca = PCA(n_components=2)\n",
    "X_pca = pca.fit_transform(wv.loc[names])"
   ]
  },
  {
   "cell_type": "code",
   "execution_count": null,
   "metadata": {},
   "outputs": [],
   "source": [
    "plt.plot(X_pca[:, 0], X_pca[:, 1], '.')\n",
    "for i, name in enumerate(names):\n",
    "    plt.annotate(name, X_pca[i])"
   ]
  },
  {
   "cell_type": "code",
   "execution_count": null,
   "metadata": {},
   "outputs": [],
   "source": [
    "tsne = TSNE(n_components=2, perplexity=3.)\n",
    "X_tsne = tsne.fit_transform(wv.loc[names])"
   ]
  },
  {
   "cell_type": "code",
   "execution_count": null,
   "metadata": {},
   "outputs": [],
   "source": [
    "plt.plot(X_tsne[:, 0], X_tsne[:, 1], '.')\n",
    "for i, name in enumerate(names):\n",
    "    plt.annotate(name, X_tsne[i])"
   ]
  },
  {
   "cell_type": "markdown",
   "metadata": {},
   "source": [
    "## Analogies"
   ]
  },
  {
   "cell_type": "code",
   "execution_count": null,
   "metadata": {},
   "outputs": [],
   "source": [
    "# normalize your data\n",
    "wv.dot(wv.loc[\"dog\"]).sort_values(ascending=False).head(10)"
   ]
  },
  {
   "cell_type": "code",
   "execution_count": null,
   "metadata": {},
   "outputs": [],
   "source": [
    "wvn.dot(wvn.loc[\"dog\"]).sort_values(ascending=False).head(20)"
   ]
  },
  {
   "cell_type": "code",
   "execution_count": null,
   "metadata": {},
   "outputs": [],
   "source": [
    "wvn.dot(wvn.loc[\"dog\"]).sort_values(ascending=False).tail(20)"
   ]
  },
  {
   "cell_type": "code",
   "execution_count": null,
   "metadata": {},
   "outputs": [],
   "source": [
    "wvn.dot(wvn.loc[\"king\"] - wvn.loc[\"man\"] + wvn.loc[\"woman\"]).sort_values(ascending=False).head(20)"
   ]
  },
  {
   "cell_type": "code",
   "execution_count": null,
   "metadata": {},
   "outputs": [],
   "source": [
    "wvn.dot(wvn.loc[\"kissed\"] - wvn.loc[\"kiss\"] + wvn.loc[\"eat\"]).sort_values(ascending=False).head(20)"
   ]
  },
  {
   "cell_type": "markdown",
   "metadata": {
    "collapsed": true
   },
   "source": [
    "## Extremes"
   ]
  },
  {
   "cell_type": "code",
   "execution_count": null,
   "metadata": {},
   "outputs": [],
   "source": [
    "temp_diff = wvn.loc[\"hot\"] - wvn.loc[\"cold\"]\n",
    "temp_avg = (wvn.loc[\"hot\"] + wvn.loc[\"cold\"]) / 2.\n",
    "proj = pd.DataFrame([temp_diff, temp_avg], index=[\"temp_diff\", \"temp_avg\"]).transpose()"
   ]
  },
  {
   "cell_type": "code",
   "execution_count": null,
   "metadata": {},
   "outputs": [],
   "source": [
    "temp_all = wvn.dot(proj).sort_values(by=\"temp_avg\", ascending=False)"
   ]
  },
  {
   "cell_type": "code",
   "execution_count": null,
   "metadata": {},
   "outputs": [],
   "source": [
    "temp_all.head(20)"
   ]
  },
  {
   "cell_type": "code",
   "execution_count": null,
   "metadata": {},
   "outputs": [],
   "source": [
    "temp_all.head(20).sort_values(by=\"temp_diff\", ascending=False)"
   ]
  },
  {
   "cell_type": "markdown",
   "metadata": {},
   "source": [
    "## Other notes\n",
    "\n",
    "* ['unk' in GloVe is not for UNKNOWN](https://stackoverflow.com/questions/49239941/what-is-unk-in-the-pretrained-glove-vector-files-e-g-glove-6b-50d-txt)"
   ]
  },
  {
   "cell_type": "code",
   "execution_count": null,
   "metadata": {},
   "outputs": [],
   "source": []
  }
 ],
 "metadata": {
  "anaconda-cloud": {},
  "kernelspec": {
   "display_name": "Python [conda env:py37]",
   "language": "python",
   "name": "conda-env-py37-py"
  },
  "language_info": {
   "codemirror_mode": {
    "name": "ipython",
    "version": 3
   },
   "file_extension": ".py",
   "mimetype": "text/x-python",
   "name": "python",
   "nbconvert_exporter": "python",
   "pygments_lexer": "ipython3",
   "version": "3.7.2"
  },
  "varInspector": {
   "cols": {
    "lenName": 16,
    "lenType": 16,
    "lenVar": 40
   },
   "kernels_config": {
    "python": {
     "delete_cmd_postfix": "",
     "delete_cmd_prefix": "del ",
     "library": "var_list.py",
     "varRefreshCmd": "print(var_dic_list())"
    },
    "r": {
     "delete_cmd_postfix": ") ",
     "delete_cmd_prefix": "rm(",
     "library": "var_list.r",
     "varRefreshCmd": "cat(var_dic_list()) "
    }
   },
   "types_to_exclude": [
    "module",
    "function",
    "builtin_function_or_method",
    "instance",
    "_Feature"
   ],
   "window_display": false
  }
 },
 "nbformat": 4,
 "nbformat_minor": 1
}
