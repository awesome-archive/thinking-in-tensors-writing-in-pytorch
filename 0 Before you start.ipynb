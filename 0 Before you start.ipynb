{
 "cells": [
  {
   "cell_type": "markdown",
   "metadata": {},
   "source": [
    "# Thinking in tensors, writing in PyTorch\n",
    "\n",
    "A hands-on course by [Piotr Migdał](https://p.migdal.pl) et al. (2019).\n",
    "\n",
    "An interactive, installation-free version of this course: [![Open In Colab](https://colab.research.google.com/assets/colab-badge.svg)](https://colab.research.google.com/github/stared/thinking-in-tensors-writing-in-pytorch/)\n",
    "\n",
    "## Notebook 0: Before you start\n",
    "\n",
    "\n",
    "It is an introduction to deep learning using PyTorch.\n",
    "\n",
    "More about it in the description: https://github.com/stared/thinking-in-tensors-writing-in-pytorch\n",
    "\n",
    "Also, if you have any problems, please use [GitHub issues](https://github.com/stared/thinking-in-tensors-writing-in-pytorch/issues). \n",
    "\n",
    "\n",
    "### Installation instructions\n",
    "\n",
    "The whole course in Jupyter Notebook, an interactive interface for Python 3.\n",
    "\n",
    "There are a few ways to run it.\n",
    "\n",
    "* online, using [Google Colaboratory](https://colab.research.google.com/)\n",
    "* locally, using [Anaconda Distribution](https://www.anaconda.com/distribution/#download-section)\n",
    "\n",
    "On top of standard scientific libraries to Python (3.5 or higher), we need:\n",
    "\n",
    "* [PyTorch](https://pytorch.org/)\n",
    "* [livelossplot](https://github.com/stared/livelossplot)"
   ]
  },
  {
   "cell_type": "code",
   "execution_count": null,
   "metadata": {},
   "outputs": [],
   "source": [
    "import torch"
   ]
  },
  {
   "cell_type": "code",
   "execution_count": null,
   "metadata": {},
   "outputs": [],
   "source": [
    "torch.__version__  # should be 1.3.1 or higher"
   ]
  },
  {
   "cell_type": "code",
   "execution_count": null,
   "metadata": {},
   "outputs": [],
   "source": [
    "import livelossplot"
   ]
  },
  {
   "cell_type": "code",
   "execution_count": null,
   "metadata": {},
   "outputs": [],
   "source": [
    "livelossplot.__version__  #should be 0.4.1 or higher"
   ]
  },
  {
   "cell_type": "code",
   "execution_count": null,
   "metadata": {},
   "outputs": [],
   "source": [
    "# if it doesn't work, type\n",
    "!pip install livelossplot"
   ]
  },
  {
   "cell_type": "code",
   "execution_count": null,
   "metadata": {},
   "outputs": [],
   "source": []
  }
 ],
 "metadata": {
  "kernelspec": {
   "display_name": "Python [default]",
   "language": "python",
   "name": "python3"
  },
  "language_info": {
   "codemirror_mode": {
    "name": "ipython",
    "version": 3
   },
   "file_extension": ".py",
   "mimetype": "text/x-python",
   "name": "python",
   "nbconvert_exporter": "python",
   "pygments_lexer": "ipython3",
   "version": "3.5.4"
  },
  "varInspector": {
   "cols": {
    "lenName": 16,
    "lenType": 16,
    "lenVar": 40
   },
   "kernels_config": {
    "python": {
     "delete_cmd_postfix": "",
     "delete_cmd_prefix": "del ",
     "library": "var_list.py",
     "varRefreshCmd": "print(var_dic_list())"
    },
    "r": {
     "delete_cmd_postfix": ") ",
     "delete_cmd_prefix": "rm(",
     "library": "var_list.r",
     "varRefreshCmd": "cat(var_dic_list()) "
    }
   },
   "types_to_exclude": [
    "module",
    "function",
    "builtin_function_or_method",
    "instance",
    "_Feature"
   ],
   "window_display": false
  }
 },
 "nbformat": 4,
 "nbformat_minor": 2
}
