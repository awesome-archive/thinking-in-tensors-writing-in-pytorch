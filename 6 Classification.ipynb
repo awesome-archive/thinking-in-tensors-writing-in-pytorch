{
 "cells": [
  {
   "cell_type": "markdown",
   "metadata": {},
   "source": [
    "# Thinking in tensors in PyTorch\n",
    "\n",
    "Hands-on training  by [Piotr Migdał](https://p.migdal.pl) (2019). Version for Uniwersytet Śląski.\n",
    "\n",
    "\n",
    "## 6 Classification \n",
    "\n",
    "Notebook by Piotr Migdał. And example adopted from https://github.com/stared/livelossplot version 0.4.1.\n",
    "\n",
    "[![Open In Colab](https://colab.research.google.com/assets/colab-badge.svg)](https://colab.research.google.com/github/stared/thinking-in-tensors-writing-in-pytorch/blob/master/extra/Image%20classification.ipynb)\n",
    "\n",
    "Inspirations: \n",
    "\n",
    "* [Plot classifier comparison - scikit-learn](https://scikit-learn.org/stable/auto_examples/classification/plot_classifier_comparison.html)\n",
    "* [TensorFlow playground](https://playground.tensorflow.org/)\n",
    "* [Which Machine Learning algorithm are you?](https://github.com/stared/which-ml-are-you)\n",
    "\n",
    "Very work in progress.\n",
    "\n",
    "For using ReLU activations, and how does it relate to folding paper, see:\n",
    "\n",
    "* [On the Number of Linear Regions of Deep Neural Networks](https://arxiv.org/abs/1402.1869) (NIPS 2014)"
   ]
  },
  {
   "cell_type": "code",
   "execution_count": null,
   "metadata": {},
   "outputs": [],
   "source": [
    "from sklearn import datasets\n",
    "from sklearn.model_selection import train_test_split\n",
    "\n",
    "import torch\n",
    "from torch import nn, optim\n",
    "from torch.utils.data import TensorDataset, DataLoader\n",
    "\n",
    "import matplotlib.pyplot as plt\n",
    "from matplotlib.colors import ListedColormap\n",
    "\n",
    "from livelossplot import PlotLosses\n",
    "from livelossplot import matplotlib_subplots"
   ]
  },
  {
   "cell_type": "code",
   "execution_count": null,
   "metadata": {},
   "outputs": [],
   "source": [
    "# try with make_moons\n",
    "X, y = datasets.make_circles(noise=0.2, factor=0.5, random_state=1)\n",
    "X_train, X_test, y_train, y_test = \\\n",
    "    train_test_split(X, y, test_size=.4, random_state=42)"
   ]
  },
  {
   "cell_type": "code",
   "execution_count": null,
   "metadata": {},
   "outputs": [],
   "source": [
    "# plot them\n",
    "cm_bright = ListedColormap(['#FF0000', '#0000FF'])\n",
    "plt.scatter(X_train[:, 0], X_train[:, 1], c=y_train, cmap=cm_bright)\n",
    "plt.scatter(X_test[:, 0], X_test[:, 1], c=y_test, cmap=cm_bright, alpha=0.3)"
   ]
  },
  {
   "cell_type": "code",
   "execution_count": null,
   "metadata": {},
   "outputs": [],
   "source": [
    "# PyTorch technicalities - loading and trainin\n",
    "dataloaders = {\n",
    "    'train':\n",
    "    DataLoader(TensorDataset(torch.from_numpy(X_train).float(), torch.from_numpy(y_train).long()),\n",
    "               batch_size=32,\n",
    "               shuffle=True, num_workers=4),\n",
    "    'validation': \n",
    "    DataLoader(TensorDataset(torch.from_numpy(X_test).float(), torch.from_numpy(y_test).long()),\n",
    "               batch_size=32,\n",
    "               shuffle=False, num_workers=4)\n",
    "}\n",
    "\n",
    "device = torch.device('cuda:0' if torch.cuda.is_available() else 'cpu')\n",
    "\n",
    "def train_model(model, criterion, optimizer, num_epochs=10,\n",
    "                liveloss=PlotLosses()):\n",
    "    model = model.to(device)\n",
    "    \n",
    "    for epoch in range(num_epochs):\n",
    "        logs = {}\n",
    "        for phase in ['train', 'validation']:\n",
    "            if phase == 'train':\n",
    "                model.train()\n",
    "            else:\n",
    "                model.eval()\n",
    "\n",
    "            running_loss = 0.0\n",
    "            running_corrects = 0\n",
    "\n",
    "            for inputs, labels in dataloaders[phase]:\n",
    "                inputs = inputs.to(device)\n",
    "                labels = labels.to(device)\n",
    "\n",
    "                outputs = model(inputs)\n",
    "                loss = criterion(outputs, labels)\n",
    "\n",
    "                if phase == 'train':\n",
    "                    optimizer.zero_grad()\n",
    "                    loss.backward()\n",
    "                    optimizer.step()\n",
    "\n",
    "                _, preds = torch.max(outputs, 1)\n",
    "                running_loss += loss.item() * inputs.size(0)\n",
    "                running_corrects += (preds == labels.data).sum().item()\n",
    "\n",
    "            epoch_loss = running_loss / len(dataloaders[phase].dataset)\n",
    "            epoch_acc = running_corrects / len(dataloaders[phase].dataset)\n",
    "            \n",
    "            prefix = ''\n",
    "            if phase == 'validation':\n",
    "                prefix = 'val_'\n",
    "\n",
    "            logs[prefix + 'log loss'] = epoch_loss\n",
    "            logs[prefix + 'accuracy'] = epoch_acc\n",
    "        \n",
    "        liveloss.update(logs)\n",
    "        liveloss.draw()"
   ]
  },
  {
   "cell_type": "code",
   "execution_count": null,
   "metadata": {},
   "outputs": [],
   "source": [
    "# an old-school neural network: a multi-layer perceptron\n",
    "\n",
    "class MLP(nn.Module):\n",
    "    def __init__(self, hidden_size=3, activation=nn.ReLU()):\n",
    "        super().__init__()\n",
    "\n",
    "        self.fc = nn.Sequential(\n",
    "            nn.Linear(2, hidden_size),\n",
    "            activation,\n",
    "            nn.Linear(hidden_size, 2)\n",
    "        )\n",
    "    \n",
    "    def forward(self, x):\n",
    "        x = self.fc(x)\n",
    "        return x"
   ]
  },
  {
   "cell_type": "code",
   "execution_count": null,
   "metadata": {},
   "outputs": [],
   "source": [
    "model = MLP(6)\n",
    "\n",
    "plot2d = matplotlib_subplots.Plot2d(model, X_train, y_train,\n",
    "                                    valiation_data=(X_test, y_test),\n",
    "                                    margin=0.2, h=0.02)\n",
    "plot2d.predict = plot2d._predict_pytorch\n",
    "liveloss = PlotLosses(cell_size=(5, 6), extra_plots=[plot2d])\n",
    "\n",
    "criterion = nn.CrossEntropyLoss()\n",
    "optimizer = optim.Adam(model.parameters(), lr=1e-1)\n",
    "\n",
    "train_model(model, criterion, optimizer, num_epochs=30,\n",
    "            liveloss=liveloss)"
   ]
  },
  {
   "cell_type": "code",
   "execution_count": null,
   "metadata": {},
   "outputs": [],
   "source": [
    "model = MLP(3, activation=nn.Sigmoid())\n",
    "\n",
    "plot2d = matplotlib_subplots.Plot2d(model, X_train, y_train,\n",
    "                                    valiation_data=(X_test, y_test),\n",
    "                                    margin=0.2, h=0.02)\n",
    "plot2d.predict = plot2d._predict_pytorch\n",
    "liveloss = PlotLosses(cell_size=(5, 6), extra_plots=[plot2d])\n",
    "\n",
    "criterion = nn.CrossEntropyLoss()\n",
    "optimizer = optim.Adam(model.parameters(), lr=1e-1)\n",
    "\n",
    "train_model(model, criterion, optimizer, num_epochs=100,\n",
    "            liveloss=liveloss)"
   ]
  },
  {
   "cell_type": "code",
   "execution_count": null,
   "metadata": {},
   "outputs": [],
   "source": [
    "# if needed, we can draw it as a separate plot\n",
    "plot2d.draw()"
   ]
  },
  {
   "cell_type": "code",
   "execution_count": null,
   "metadata": {},
   "outputs": [],
   "source": []
  }
 ],
 "metadata": {
  "kernelspec": {
   "display_name": "Python [default]",
   "language": "python",
   "name": "python3"
  },
  "language_info": {
   "codemirror_mode": {
    "name": "ipython",
    "version": 3
   },
   "file_extension": ".py",
   "mimetype": "text/x-python",
   "name": "python",
   "nbconvert_exporter": "python",
   "pygments_lexer": "ipython3",
   "version": "3.5.4"
  },
  "varInspector": {
   "cols": {
    "lenName": 16,
    "lenType": 16,
    "lenVar": 40
   },
   "kernels_config": {
    "python": {
     "delete_cmd_postfix": "",
     "delete_cmd_prefix": "del ",
     "library": "var_list.py",
     "varRefreshCmd": "print(var_dic_list())"
    },
    "r": {
     "delete_cmd_postfix": ") ",
     "delete_cmd_prefix": "rm(",
     "library": "var_list.r",
     "varRefreshCmd": "cat(var_dic_list()) "
    }
   },
   "types_to_exclude": [
    "module",
    "function",
    "builtin_function_or_method",
    "instance",
    "_Feature"
   ],
   "window_display": false
  }
 },
 "nbformat": 4,
 "nbformat_minor": 2
}
